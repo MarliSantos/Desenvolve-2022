{
  "nbformat": 4,
  "nbformat_minor": 0,
  "metadata": {
    "colab": {
      "name": "Python para Data Science - Lógica de programação.ipynb",
      "provenance": []
    },
    "kernelspec": {
      "name": "python3",
      "display_name": "Python 3"
    },
    "language_info": {
      "name": "python"
    }
  },
  "cells": [
    {
      "cell_type": "markdown",
      "source": [
        "# Lógica de programação com Python"
      ],
      "metadata": {
        "id": "GQ0dxp6YGxGJ"
      }
    },
    {
      "cell_type": "code",
      "source": [
        ""
      ],
      "metadata": {
        "id": "WOlVsZtzGGpw"
      },
      "execution_count": null,
      "outputs": []
    },
    {
      "cell_type": "code",
      "source": [
        "1+2"
      ],
      "metadata": {
        "colab": {
          "base_uri": "https://localhost:8080/"
        },
        "id": "xOF0RrcrG4-L",
        "outputId": "e31a93b0-cbde-45c2-c5e4-83b960187350"
      },
      "execution_count": null,
      "outputs": [
        {
          "output_type": "execute_result",
          "data": {
            "text/plain": [
              "3"
            ]
          },
          "metadata": {},
          "execution_count": 13
        }
      ]
    },
    {
      "cell_type": "code",
      "source": [
        "idade = 28"
      ],
      "metadata": {
        "id": "ky4A_R-kHn24"
      },
      "execution_count": null,
      "outputs": []
    },
    {
      "cell_type": "code",
      "source": [
        "idade"
      ],
      "metadata": {
        "colab": {
          "base_uri": "https://localhost:8080/"
        },
        "id": "nKBm_6p4I8Uk",
        "outputId": "ff4a9b83-bc8a-4ebd-e861-7f5f5b95a24b"
      },
      "execution_count": null,
      "outputs": [
        {
          "output_type": "execute_result",
          "data": {
            "text/plain": [
              "28"
            ]
          },
          "metadata": {},
          "execution_count": 6
        }
      ]
    },
    {
      "cell_type": "code",
      "source": [
        "nome = 'Guilherme'"
      ],
      "metadata": {
        "id": "b67cojumL65D"
      },
      "execution_count": null,
      "outputs": []
    },
    {
      "cell_type": "code",
      "source": [
        "print(f'O nome é {nome} e sua idade é {idade} anos')"
      ],
      "metadata": {
        "colab": {
          "base_uri": "https://localhost:8080/"
        },
        "id": "cmLCVmkuMDL7",
        "outputId": "1be7cbc1-079f-43af-fe58-8916ce52385d"
      },
      "execution_count": null,
      "outputs": [
        {
          "output_type": "stream",
          "name": "stdout",
          "text": [
            "O nome é Guilherme e sua idade é 28 anos\n"
          ]
        }
      ]
    },
    {
      "cell_type": "code",
      "source": [
        ""
      ],
      "metadata": {
        "id": "nd_SHk2vRLaW"
      },
      "execution_count": null,
      "outputs": []
    },
    {
      "cell_type": "markdown",
      "source": [
        "## Criando minha primeira função"
      ],
      "metadata": {
        "id": "fU9RBMnLRNjY"
      }
    },
    {
      "cell_type": "code",
      "source": [
        "def saudacao():\n",
        "  nome = input('Qual o seu nome? ')\n",
        "  print(f'Olá {nome}')"
      ],
      "metadata": {
        "id": "BBRZ1H09WnPm"
      },
      "execution_count": null,
      "outputs": []
    },
    {
      "cell_type": "code",
      "source": [
        "saudacao()"
      ],
      "metadata": {
        "colab": {
          "base_uri": "https://localhost:8080/"
        },
        "id": "WYWg38RPbCG4",
        "outputId": "0ad58087-bf4c-4d56-d8b2-3c4b68ff497b"
      },
      "execution_count": null,
      "outputs": [
        {
          "output_type": "stream",
          "name": "stdout",
          "text": [
            "Qual o seu nome? Marli\n",
            "Olá Marli\n"
          ]
        }
      ]
    },
    {
      "cell_type": "markdown",
      "source": [
        "Parâmetros"
      ],
      "metadata": {
        "id": "UgzpZOrOz6zF"
      }
    },
    {
      "cell_type": "code",
      "source": [
        "nome = 'João'\n",
        "def saudacao_com_parametros(nome_da_pessoa):\n",
        "  print(f'Olá {nome_da_pessoa}')\n",
        "saudacao_com_parametros(nome)"
      ],
      "metadata": {
        "colab": {
          "base_uri": "https://localhost:8080/"
        },
        "id": "3flASMsP0Bnx",
        "outputId": "7a78b2b6-caa0-4c24-a13d-39bec5d51712"
      },
      "execution_count": null,
      "outputs": [
        {
          "output_type": "stream",
          "name": "stdout",
          "text": [
            "Olá João\n"
          ]
        }
      ]
    },
    {
      "cell_type": "code",
      "source": [
        ""
      ],
      "metadata": {
        "id": "XylfG7l50kC2"
      },
      "execution_count": null,
      "outputs": []
    },
    {
      "cell_type": "markdown",
      "source": [
        "Condicional"
      ],
      "metadata": {
        "id": "syrIKc-U1B8S"
      }
    },
    {
      "cell_type": "code",
      "source": [
        "idade = 15\n",
        "def verifica_se_pode_dirigir(idade):\n",
        "  if idade >=18:\n",
        "    print('tem permissao para dirigir')\n",
        "  else:\n",
        "     print(' Não tem permissao para dirigir')  \n",
        "verifica_se_pode_dirigir(idade)   \n"
      ],
      "metadata": {
        "colab": {
          "base_uri": "https://localhost:8080/"
        },
        "id": "bPADNtmG1Jxz",
        "outputId": "7a919ad8-57a0-4a36-b277-9379e6df96a5"
      },
      "execution_count": null,
      "outputs": [
        {
          "output_type": "stream",
          "name": "stdout",
          "text": [
            " Não tem permissao para dirigir\n"
          ]
        }
      ]
    },
    {
      "cell_type": "markdown",
      "source": [
        "# Convertendo para tipo inteiro"
      ],
      "metadata": {
        "id": "rOoz3GX15PxX"
      }
    },
    {
      "cell_type": "code",
      "source": [
        "def verifica_se_pode_dirigir_sem_parametros():\n",
        "  idade = input('Qual a sua idade? ')\n",
        "  idade = int(idade)\n",
        "  if idade >=18:\n",
        "    print('tem permissao para dirigir')\n",
        "  else:\n",
        "     print(' Não tem permissao para dirigir')  \n",
        "verifica_se_pode_dirigir_sem_parametros()    "
      ],
      "metadata": {
        "colab": {
          "base_uri": "https://localhost:8080/"
        },
        "id": "4wPQstcd2Wni",
        "outputId": "f985b8bf-b297-4f11-f3f7-e91a7a3a3a63"
      },
      "execution_count": null,
      "outputs": [
        {
          "output_type": "stream",
          "name": "stdout",
          "text": [
            "Qual a sua idade? 49\n",
            "tem permissao para dirigir\n"
          ]
        }
      ]
    },
    {
      "cell_type": "code",
      "source": [
        ""
      ],
      "metadata": {
        "id": "aG4qVSNV4a5t"
      },
      "execution_count": null,
      "outputs": []
    },
    {
      "cell_type": "markdown",
      "source": [
        "# Lista"
      ],
      "metadata": {
        "id": "sr5aPUvA7vjc"
      }
    },
    {
      "cell_type": "code",
      "source": [
        "idades = [18, 22, 15, 50]\n",
        "type (idades)\n"
      ],
      "metadata": {
        "colab": {
          "base_uri": "https://localhost:8080/"
        },
        "id": "bLERuCCz7-Rz",
        "outputId": "68d44900-1de6-4f9f-8203-d937f97252f0"
      },
      "execution_count": null,
      "outputs": [
        {
          "output_type": "execute_result",
          "data": {
            "text/plain": [
              "list"
            ]
          },
          "metadata": {},
          "execution_count": 20
        }
      ]
    },
    {
      "cell_type": "code",
      "source": [
        "idades[2]"
      ],
      "metadata": {
        "colab": {
          "base_uri": "https://localhost:8080/"
        },
        "id": "JiJwKmU38fVh",
        "outputId": "b7b5d214-d38f-44fb-9e13-c3f1cdf4849a"
      },
      "execution_count": null,
      "outputs": [
        {
          "output_type": "execute_result",
          "data": {
            "text/plain": [
              "15"
            ]
          },
          "metadata": {},
          "execution_count": 21
        }
      ]
    },
    {
      "cell_type": "code",
      "source": [
        "idades[1:]\n",
        "# para conseguir pegar o último número deve-se usar : após o 1º nº digitado\n"
      ],
      "metadata": {
        "colab": {
          "base_uri": "https://localhost:8080/"
        },
        "id": "PIb4G7Yo8i8J",
        "outputId": "6cf8d238-52bd-42bc-a778-120b31676e41"
      },
      "execution_count": null,
      "outputs": [
        {
          "output_type": "execute_result",
          "data": {
            "text/plain": [
              "[22, 15, 50]"
            ]
          },
          "metadata": {},
          "execution_count": 22
        }
      ]
    },
    {
      "cell_type": "code",
      "source": [
        "idades[-1]\n",
        "# ou fazer desta forma. colocando o sinal de - na qtde que interessa -1, -2, -3 etc mostraria 22,15,50"
      ],
      "metadata": {
        "colab": {
          "base_uri": "https://localhost:8080/"
        },
        "id": "lfK2vCI18yZw",
        "outputId": "1c9b48a2-0ccd-4e5f-d1e8-6447d6286e0c"
      },
      "execution_count": null,
      "outputs": [
        {
          "output_type": "execute_result",
          "data": {
            "text/plain": [
              "50"
            ]
          },
          "metadata": {},
          "execution_count": 23
        }
      ]
    },
    {
      "cell_type": "code",
      "source": [
        ""
      ],
      "metadata": {
        "id": "xA7QdHzQ9SO-"
      },
      "execution_count": null,
      "outputs": []
    }
  ]
}